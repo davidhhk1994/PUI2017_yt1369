{
 "cells": [
  {
   "cell_type": "markdown",
   "metadata": {},
   "source": [
    "## Assignment1\n",
    "### Generate N samples from a distribution of your choice, but not a Gaussian with a chosen mean μ and standard deviation σ: N(μ, σ) and calculate the mean of each sample (all samples should have the same size n).\n",
    "\n",
    "### Assess the validity of the Z-test: If the samples are drawn from the distribution you are testing the z-values you calculate should follow a N(0,1) distribution (a Gaussian with mean 0 and standard deviation 1). Show that the distribution of z -statistics (find the formula in a statistics book or in last week’s slides) that you calculated (one for each sample) is indeed consistent with N(0,1)."
   ]
  },
  {
   "cell_type": "code",
   "execution_count": 1,
   "metadata": {},
   "outputs": [
    {
     "name": "stdout",
     "output_type": "stream",
     "text": [
      "Populating the interactive namespace from numpy and matplotlib\n"
     ]
    }
   ],
   "source": [
    "import numpy as np\n",
    "import pylab as pl\n",
    "import scipy as sp\n",
    "from scipy import stats\n",
    "\n",
    "%pylab inline"
   ]
  },
  {
   "cell_type": "code",
   "execution_count": 2,
   "metadata": {
    "collapsed": true
   },
   "outputs": [],
   "source": [
    "np.random.seed(999)"
   ]
  },
  {
   "cell_type": "code",
   "execution_count": 3,
   "metadata": {
    "scrolled": true
   },
   "outputs": [],
   "source": [
    "mymean = 100\n",
    "mystd = 14\n",
    "mysample = sp.stats.poisson.rvs(mymean, size=1000)"
   ]
  },
  {
   "cell_type": "code",
   "execution_count": 4,
   "metadata": {},
   "outputs": [
    {
     "data": {
      "image/png": "[encoded data removed]",
      "text/plain": [
       "<matplotlib.figure.Figure at 0x10a135290>"
      ]
     },
     "metadata": {},
     "output_type": "display_data"
    }
   ],
   "source": [
    "#now plot the original distribution\n",
    "pl.figure(figsize = (9,6))\n",
    "pl.hist(mysample)\n",
    "pl.xlabel(\"X\")\n",
    "pl.ylabel(\"N\")\n",
    "pl.title(\"Poisson Distribution\", fontsize = 20)\n",
    "pl.show()"
   ]
  },
  {
   "cell_type": "code",
   "execution_count": 5,
   "metadata": {},
   "outputs": [],
   "source": [
    "#generate samples\n",
    "#z-test\n",
    "mysamples = []\n",
    "mysamplesMean = np.zeros(500)\n",
    "mysamplesZ = np.zeros(500)\n",
    "\n",
    "for i in range(500):\n",
    "    samples = np.random.choice(mysample, 100)\n",
    "    mysamples.append(samples)\n",
    "    #calculate the mean of each sample\n",
    "    mysamplesMean[i] = samples.mean()\n",
    "    #according to z-test formula: Z=(u-u0)/(s/sqrt(n))\n",
    "    Z = (samples.mean() - mysample.mean()) / (mysample.std() / 10.)\n",
    "    mysamplesZ[i] = Z"
   ]
  },
  {
   "cell_type": "code",
   "execution_count": 6,
   "metadata": {
    "scrolled": true
   },
   "outputs": [
    {
     "data": {
      "image/png": "[encoded data removed]",
      "text/plain": [
       "<matplotlib.figure.Figure at 0x10a123a90>"
      ]
     },
     "metadata": {},
     "output_type": "display_data"
    }
   ],
   "source": [
    "#plot the distribution of z-statistics\n",
    "pl.figure(figsize = (9,6))\n",
    "pl.hist(mysamplesZ, bins = 30, alpha=0.7)\n",
    "pl.ylabel('N')\n",
    "pl.xlabel('Z-statistics')\n",
    "pl.title('The Z-statistics of sample means', fontsize = 20)\n",
    "pl.show()"
   ]
  },
  {
   "cell_type": "markdown",
   "metadata": {},
   "source": [
    "## Conclusion: the distribution of z-statistics is indeed consistent with N(0,1)."
   ]
  }
 ],
 "metadata": {
  "kernelspec": {
   "display_name": "Python 2",
   "language": "python",
   "name": "python2"
  },
  "language_info": {
   "codemirror_mode": {
    "name": "ipython",
    "version": 2
   },
   "file_extension": ".py",
   "mimetype": "text/x-python",
   "name": "python",
   "nbconvert_exporter": "python",
   "pygments_lexer": "ipython2",
   "version": "2.7.13"
  }
 },
 "nbformat": 4,
 "nbformat_minor": 2
}
