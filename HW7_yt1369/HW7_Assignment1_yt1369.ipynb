{
 "cells": [
  {
   "cell_type": "markdown",
   "metadata": {},
   "source": [
    "# Written by Yixuan Tang\n",
    "# for NYU CUSP PUI\n",
    "### Assignment 1 Homework 7"
   ]
  },
  {
   "cell_type": "code",
   "execution_count": 2,
   "metadata": {
    "scrolled": true
   },
   "outputs": [
    {
     "name": "stdout",
     "output_type": "stream",
     "text": [
      "Populating the interactive namespace from numpy and matplotlib\n"
     ]
    },
    {
     "data": {
      "text/plain": [
       "'/Users/yixuantang/PUIdata/'"
      ]
     },
     "execution_count": 2,
     "metadata": {},
     "output_type": "execute_result"
    }
   ],
   "source": [
    "from __future__  import print_function, division\n",
    "import pylab as pl\n",
    "import pandas as pd\n",
    "import numpy as np\n",
    "import os\n",
    "\n",
    "%pylab inline\n",
    "\n",
    "if os.getenv ('PUI2016') is None:\n",
    "    print (\"Must set env variable PUI2016\")\n",
    "if os.getenv ('PUIDATA') is None:\n",
    "    print (\"Must set env variable PUI2016\")\n",
    "    \n",
    "os.getenv(\"PUIDATA\")"
   ]
  },
  {
   "cell_type": "markdown",
   "metadata": {},
   "source": [
    "# IDEA:\n",
    "## The post-90s are less likely than the pre-90s to choose biking _for commuting_\n",
    "\n",
    "# NULL HYPOTHESIS:\n",
    "## The proportion of pre-90s biking on weekends is the same or higher than the proportion of post-90s biking on weekends\n",
    "\n",
    "_$H_0$ : $\\frac{Po{\\mathrm{weekend}}}{Po{\\mathrm{total}}} <= \\frac{Pr{\\mathrm{weekend}}}{Pr_{\\mathrm{total}}}$\n",
    "_$H_1$ : $\\frac{Po{\\mathrm{weekend}}}{Po{\\mathrm{total}}} > \\frac{Pr{\\mathrm{weekend}}}{Pr_{\\mathrm{total}}}$\n",
    "\n",
    "or identically:\n",
    "\n",
    "_$H_0$ : $\\frac{Po{\\mathrm{weekend}}}{Po{\\mathrm{total}}} - \\frac{Pr{\\mathrm{weekend}}}{Pr_{\\mathrm{total}}} <= 0 $\n",
    "_$H_1$ : $\\frac{Po{\\mathrm{weekend}}}{Po{\\mathrm{total}}} - \\frac{Pr{\\mathrm{weekend}}}{Pr_{\\mathrm{total}}} > 0$\n",
    "\n",
    "\n",
    "## I choose the significance level  $\\alpha=0.05$\n",
    "\n",
    "#### which means I want the probability of getting a result at least as significant as mine to be less then 5%"
   ]
  },
  {
   "cell_type": "markdown",
   "metadata": {},
   "source": [
    "## Starting with a single month of data:  reading data from citibike csv file from Jul 2017\n"
   ]
  },
  {
   "cell_type": "markdown",
   "metadata": {},
   "source": [
    "### download and move  data to PUIDATA\n",
    "# NOTE: \n",
    "# 1. access to data from within the notebook _is required_\n",
    "# 2. if data is downloaded it _must_ be stored in a directory pointed to by the environmental variable PUIDATA"
   ]
  },
  {
   "cell_type": "code",
   "execution_count": 3,
   "metadata": {
    "collapsed": true
   },
   "outputs": [],
   "source": [
    "#download the data\n",
    "def getCitiBikeCSV(datestring):\n",
    "    print (\"Downloading\", datestring)\n",
    "    ### First I will heck that it is not already there\n",
    "    if not os.path.isfile(os.getenv(\"PUIDATA\") + \"/\" + datestring + \"-citibike-tripdata.csv\"):\n",
    "        if os.path.isfile(datestring + \"-citibike-tripdata.csv\"):\n",
    "            # if in the current dir just move it\n",
    "            if os.system(\"mv \" + datestring + \"-citibike-tripdata.csv \" + os.getenv(\"PUIDATA\")):\n",
    "                print (\"Error moving file!, Please check!\")\n",
    "        #otherwise start looking for the zip file\n",
    "        else:\n",
    "            if not os.path.isfile(os.getenv(\"PUIDATA\") + \"/\" + datestring + \"-citibike-tripdata.zip\"):\n",
    "                if not os.path.isfile(datestring + \"-citibike-tripdata.zip\"):\n",
    "                    os.system(\"curl -O https://s3.amazonaws.com/tripdata/\" + datestring + \"-citibike-tripdata.zip\")\n",
    "                ###  To move it I use the os.system() functions to run bash commands with arguments\n",
    "                os.system(\"mv \" + datestring + \"-citibike-tripdata.zip \" + os.getenv(\"PUIDATA\"))\n",
    "            ### unzip the csv \n",
    "            os.system(\"unzip \" + os.getenv(\"PUIDATA\") + \"/\" + datestring + \"-citibike-tripdata.zip\")\n",
    "            ## NOTE: old csv citibike data had a different name structure. \n",
    "            if '2014' in datestring:\n",
    "                os.system(\"mv \" + datestring[:4] + '-' +  datestring[4:] + \n",
    "                          \"\\ -\\ Citi\\ Bike\\ trip\\ data.csv \" + datestring + \"-citibike-tripdata.csv\")\n",
    "            os.system(\"mv \" + datestring + \"-citibike-tripdata.csv \" + os.getenv(\"PUIDATA\"))\n",
    "    ### One final check:\n",
    "    if not os.path.isfile(os.getenv(\"PUIDATA\") + \"/\" + datestring + \"-citibike-tripdata.csv\"):\n",
    "        print (\"WARNING!!! something is wrong: the file is not there!\")\n",
    "\n",
    "    else:\n",
    "        print (\"file in place, you can continue\")"
   ]
  },
  {
   "cell_type": "code",
   "execution_count": 6,
   "metadata": {
    "scrolled": false
   },
   "outputs": [
    {
     "name": "stdout",
     "output_type": "stream",
     "text": [
      "Downloading 201607\n",
      "file in place, you can continue\n"
     ]
    }
   ],
   "source": [
    "datestring = '201607'\n",
    "getCitiBikeCSV(datestring)"
   ]
  },
  {
   "cell_type": "code",
   "execution_count": 7,
   "metadata": {},
   "outputs": [
    {
     "data": {
      "text/html": [
       "<div>\n",
       "<style>\n",
       "    .dataframe thead tr:only-child th {\n",
       "        text-align: right;\n",
       "    }\n",
       "\n",
       "    .dataframe thead th {\n",
       "        text-align: left;\n",
       "    }\n",
       "\n",
       "    .dataframe tbody tr th {\n",
       "        vertical-align: top;\n",
       "    }\n",
       "</style>\n",
       "<table border=\"1\" class=\"dataframe\">\n",
       "  <thead>\n",
       "    <tr style=\"text-align: right;\">\n",
       "      <th></th>\n",
       "      <th>tripduration</th>\n",
       "      <th>starttime</th>\n",
       "      <th>stoptime</th>\n",
       "      <th>start station id</th>\n",
       "      <th>start station name</th>\n",
       "      <th>start station latitude</th>\n",
       "      <th>start station longitude</th>\n",
       "      <th>end station id</th>\n",
       "      <th>end station name</th>\n",
       "      <th>end station latitude</th>\n",
       "      <th>end station longitude</th>\n",
       "      <th>bikeid</th>\n",
       "      <th>usertype</th>\n",
       "      <th>birth year</th>\n",
       "      <th>gender</th>\n",
       "      <th>date</th>\n",
       "    </tr>\n",
       "  </thead>\n",
       "  <tbody>\n",
       "    <tr>\n",
       "      <th>0</th>\n",
       "      <td>704</td>\n",
       "      <td>7/1/2016 00:00:02</td>\n",
       "      <td>7/1/2016 00:11:47</td>\n",
       "      <td>459</td>\n",
       "      <td>W 20 St &amp; 11 Ave</td>\n",
       "      <td>40.746745</td>\n",
       "      <td>-74.007756</td>\n",
       "      <td>347</td>\n",
       "      <td>Greenwich St &amp; W Houston St</td>\n",
       "      <td>40.728846</td>\n",
       "      <td>-74.008591</td>\n",
       "      <td>17431</td>\n",
       "      <td>Customer</td>\n",
       "      <td>NaN</td>\n",
       "      <td>0</td>\n",
       "      <td>2016-07-01 00:00:02</td>\n",
       "    </tr>\n",
       "    <tr>\n",
       "      <th>1</th>\n",
       "      <td>492</td>\n",
       "      <td>7/1/2016 00:00:18</td>\n",
       "      <td>7/1/2016 00:08:31</td>\n",
       "      <td>293</td>\n",
       "      <td>Lafayette St &amp; E 8 St</td>\n",
       "      <td>40.730287</td>\n",
       "      <td>-73.990765</td>\n",
       "      <td>466</td>\n",
       "      <td>W 25 St &amp; 6 Ave</td>\n",
       "      <td>40.743954</td>\n",
       "      <td>-73.991449</td>\n",
       "      <td>24159</td>\n",
       "      <td>Subscriber</td>\n",
       "      <td>1984.0</td>\n",
       "      <td>1</td>\n",
       "      <td>2016-07-01 00:00:18</td>\n",
       "    </tr>\n",
       "    <tr>\n",
       "      <th>2</th>\n",
       "      <td>191</td>\n",
       "      <td>7/1/2016 00:00:19</td>\n",
       "      <td>7/1/2016 00:03:31</td>\n",
       "      <td>3090</td>\n",
       "      <td>N 8 St &amp; Driggs Ave</td>\n",
       "      <td>40.717746</td>\n",
       "      <td>-73.956001</td>\n",
       "      <td>3107</td>\n",
       "      <td>Bedford Ave &amp; Nassau Ave</td>\n",
       "      <td>40.723117</td>\n",
       "      <td>-73.952123</td>\n",
       "      <td>16345</td>\n",
       "      <td>Subscriber</td>\n",
       "      <td>1986.0</td>\n",
       "      <td>2</td>\n",
       "      <td>2016-07-01 00:00:19</td>\n",
       "    </tr>\n",
       "  </tbody>\n",
       "</table>\n",
       "</div>"
      ],
      "text/plain": [
       "   tripduration          starttime           stoptime  start station id  \\\n",
       "0           704  7/1/2016 00:00:02  7/1/2016 00:11:47               459   \n",
       "1           492  7/1/2016 00:00:18  7/1/2016 00:08:31               293   \n",
       "2           191  7/1/2016 00:00:19  7/1/2016 00:03:31              3090   \n",
       "\n",
       "      start station name  start station latitude  start station longitude  \\\n",
       "0       W 20 St & 11 Ave               40.746745               -74.007756   \n",
       "1  Lafayette St & E 8 St               40.730287               -73.990765   \n",
       "2    N 8 St & Driggs Ave               40.717746               -73.956001   \n",
       "\n",
       "   end station id             end station name  end station latitude  \\\n",
       "0             347  Greenwich St & W Houston St             40.728846   \n",
       "1             466              W 25 St & 6 Ave             40.743954   \n",
       "2            3107     Bedford Ave & Nassau Ave             40.723117   \n",
       "\n",
       "   end station longitude  bikeid    usertype  birth year  gender  \\\n",
       "0             -74.008591   17431    Customer         NaN       0   \n",
       "1             -73.991449   24159  Subscriber      1984.0       1   \n",
       "2             -73.952123   16345  Subscriber      1986.0       2   \n",
       "\n",
       "                 date  \n",
       "0 2016-07-01 00:00:02  \n",
       "1 2016-07-01 00:00:18  \n",
       "2 2016-07-01 00:00:19  "
      ]
     },
     "execution_count": 7,
     "metadata": {},
     "output_type": "execute_result"
    }
   ],
   "source": [
    "df = pd.read_csv(os.getenv(\"PUIDATA\") + \"/\" + datestring + '-citibike-tripdata.csv')\n",
    "# df is the dataframe where the content of the csv file is stored\n",
    "df['date'] = pd.to_datetime(df['starttime'])\n",
    "df.head(3)"
   ]
  },
  {
   "cell_type": "code",
   "execution_count": 8,
   "metadata": {
    "scrolled": false
   },
   "outputs": [
    {
     "data": {
      "text/plain": [
       "Index([u'tripduration', u'starttime', u'stoptime', u'start station id',\n",
       "       u'start station name', u'start station latitude',\n",
       "       u'start station longitude', u'end station id', u'end station name',\n",
       "       u'end station latitude', u'end station longitude', u'bikeid',\n",
       "       u'usertype', u'birth year', u'gender', u'date'],\n",
       "      dtype='object')"
      ]
     },
     "execution_count": 8,
     "metadata": {},
     "output_type": "execute_result"
    }
   ],
   "source": [
    "df.columns"
   ]
  },
  {
   "cell_type": "code",
   "execution_count": 9,
   "metadata": {
    "collapsed": true
   },
   "outputs": [],
   "source": [
    "data = df[['birth year', 'date']]"
   ]
  },
  {
   "cell_type": "code",
   "execution_count": 10,
   "metadata": {
    "scrolled": false
   },
   "outputs": [
    {
     "data": {
      "text/html": [
       "<div>\n",
       "<style>\n",
       "    .dataframe thead tr:only-child th {\n",
       "        text-align: right;\n",
       "    }\n",
       "\n",
       "    .dataframe thead th {\n",
       "        text-align: left;\n",
       "    }\n",
       "\n",
       "    .dataframe tbody tr th {\n",
       "        vertical-align: top;\n",
       "    }\n",
       "</style>\n",
       "<table border=\"1\" class=\"dataframe\">\n",
       "  <thead>\n",
       "    <tr style=\"text-align: right;\">\n",
       "      <th></th>\n",
       "      <th>birth year</th>\n",
       "      <th>date</th>\n",
       "    </tr>\n",
       "  </thead>\n",
       "  <tbody>\n",
       "    <tr>\n",
       "      <th>0</th>\n",
       "      <td>NaN</td>\n",
       "      <td>2016-07-01 00:00:02</td>\n",
       "    </tr>\n",
       "    <tr>\n",
       "      <th>1</th>\n",
       "      <td>1984.0</td>\n",
       "      <td>2016-07-01 00:00:18</td>\n",
       "    </tr>\n",
       "    <tr>\n",
       "      <th>2</th>\n",
       "      <td>1986.0</td>\n",
       "      <td>2016-07-01 00:00:19</td>\n",
       "    </tr>\n",
       "  </tbody>\n",
       "</table>\n",
       "</div>"
      ],
      "text/plain": [
       "   birth year                date\n",
       "0         NaN 2016-07-01 00:00:02\n",
       "1      1984.0 2016-07-01 00:00:18\n",
       "2      1986.0 2016-07-01 00:00:19"
      ]
     },
     "execution_count": 10,
     "metadata": {},
     "output_type": "execute_result"
    }
   ],
   "source": [
    "data.head(3)"
   ]
  },
  {
   "cell_type": "markdown",
   "metadata": {},
   "source": [
    "### Lets separate post-90s (_po) from pre-90s (_pr) to test the hypotheses.\n",
    "### In this csv file we have the birth year\n",
    "\n",
    "### Lets plot the number of trips per week day"
   ]
  },
  {
   "cell_type": "code",
   "execution_count": 11,
   "metadata": {},
   "outputs": [
    {
     "data": {
      "text/plain": [
       "<matplotlib.legend.Legend at 0x10ab083d0>"
      ]
     },
     "execution_count": 11,
     "metadata": {},
     "output_type": "execute_result"
    },
    {
     "data": {
      "image/png": "[encoded data removed]",
      "text/plain": [
       "<matplotlib.figure.Figure at 0x13801de90>"
      ]
     },
     "metadata": {},
     "output_type": "display_data"
    }
   ],
   "source": [
    "fig = pl.figure(figsize(9,9))\n",
    "#instad of plotting with matplotlib i.e. plot() i use the plot method in pandas\n",
    "norm_po = 1\n",
    "((data['date'][data['birth year'] >= 1990].groupby([df['date'].dt.weekday]).count()) / norm_po).plot(kind=\"bar\", \n",
    "                                                                                         color='IndianRed', \n",
    "                                                                                         label='post-90s')\n",
    "\n",
    "norm_pr = 1\n",
    "ax = ((data['date'][data['birth year'] < 1990].groupby([df['date'].dt.weekday]).count()) / norm_pr).plot(kind=\"bar\", \n",
    "                                                                                              color='SteelBlue', \n",
    "                                                                                              alpha=0.5,\n",
    "                                                                                              label='pre-90s')\n",
    "\n",
    "tmp = ax.xaxis.set_ticklabels(['Mon', 'Tue', 'Wed', 'Thu', 'Fri', 'Sat', 'Sun'], fontsize=20)\n",
    "pl.ylabel(\"Number of rides\", fontsize = 18)\n",
    "pl.xlabel(\"Dates\", fontsize = 18)\n",
    "pl.legend(fontsize = 18)"
   ]
  },
  {
   "cell_type": "markdown",
   "metadata": {},
   "source": [
    "## Figure 1a: Distribution of Citibike bikers by generations in July 2016, absolute counts"
   ]
  },
  {
   "cell_type": "markdown",
   "metadata": {},
   "source": [
    "### Note: the counts have errors of course. what is the error on the count statistics? \n",
    "### for N counts the error is sqrt(N) - this is because counts follow a Poisson statistic"
   ]
  },
  {
   "cell_type": "code",
   "execution_count": 37,
   "metadata": {},
   "outputs": [
    {
     "data": {
      "text/plain": [
       "<matplotlib.legend.Legend at 0x112040a10>"
      ]
     },
     "execution_count": 37,
     "metadata": {},
     "output_type": "execute_result"
    },
    {
     "data": {
      "image/png": "[encoded data removed]",
      "text/plain": [
       "<matplotlib.figure.Figure at 0x1373e7750>"
      ]
     },
     "metadata": {},
     "output_type": "display_data"
    }
   ],
   "source": [
    "fig=pl.figure(figsize(10,9))\n",
    "\n",
    "counts_po = data.date[data['birth year'] >=1990].groupby([data.date.dt.weekday]).count()\n",
    "norm_po=1\n",
    "error_po = np.sqrt(counts_po)\n",
    "ax = ((counts_po) / norm_po).plot(kind=\"bar\",color='IndianRed',  yerr=[((error_po) / norm_po, (error_po) / norm_po)], label='post-90s bikers')\n",
    "\n",
    "\n",
    "counts_pr = data.date[data['birth year'] <1990].groupby([data.date.dt.weekday]).count()\n",
    "norm_pr = 1\n",
    "error_pr=np.sqrt(counts_pr)\n",
    "((counts_pr) / norm_pr).plot(kind=\"bar\", alpha=0.5, yerr=[((error_pr) / norm_pr, (error_pr) / norm_pr)], \n",
    "                           color='SteelBlue', label='pre-90s bikers')\n",
    "ax.xaxis.set_ticklabels(['Mon','Tue','Wed','Thu','Fri','Sat','Sun'], fontsize=20)\n",
    "ax.set_ylabel (\"Number of rides\", fontsize = 18)\n",
    "ax.set_xlabel (\"Day of the week\", fontsize = 18)\n",
    "pl.legend(['post-90s bikers','pre-90s bikers'],fontsize=12)"
   ]
  },
  {
   "cell_type": "markdown",
   "metadata": {},
   "source": [
    "## Figure 1b: Distribution of Citibike bikers by age in July 2016, absolute counts, with statistical errors"
   ]
  },
  {
   "cell_type": "markdown",
   "metadata": {},
   "source": [
    "Note: These are absolute numbers. It is very hard to compare absolute numbers. Ratios (or proportions) are more ameable to comparison, so let's _normalize_ the distribution of pre-90s, and that of post-90s, i.e. devide them by the total number of rides for that generation. \n",
    "(Notice that i have to normalize the errorbars too!)\n"
   ]
  },
  {
   "cell_type": "code",
   "execution_count": 57,
   "metadata": {
    "scrolled": false
   },
   "outputs": [
    {
     "data": {
      "text/plain": [
       "<matplotlib.legend.Legend at 0x1143bac90>"
      ]
     },
     "execution_count": 57,
     "metadata": {},
     "output_type": "execute_result"
    },
    {
     "data": {
      "image/png": "[encoded data removed]",
      "text/plain": [
       "<matplotlib.figure.Figure at 0x110e6dad0>"
      ]
     },
     "metadata": {},
     "output_type": "display_data"
    }
   ],
   "source": [
    "fig = pl.figure(figsize(10,9))\n",
    "\n",
    "norm_po = counts_po.sum()\n",
    "error_po = np.sqrt(counts_po)\n",
    "((counts_po) / norm_po).plot(kind=\"bar\", color='IndianRed',  \n",
    "                           yerr=[((error_po) / norm_po, (error_po) / norm_po)], \n",
    "                           label='post-90s bikers')\n",
    "\n",
    "norm_pr = counts_pr.sum()\n",
    "ax = ((counts_pr) / norm_pr).plot(kind=\"bar\", alpha=0.5, \n",
    "                                yerr=[((error_pr) / norm_pr, (error_pr) / norm_pr)], \n",
    "                                color='SteelBlue', label='pre-90s bikers')\n",
    "\n",
    "ax.xaxis.set_ticklabels(['Mon', 'Tue', 'Wed', 'Thu', 'Fri', 'Sat', 'Sun'], fontsize=20)\n",
    "ax.set_ylabel (\"Fraction of rides\", fontsize=18)\n",
    "ax.set_xlabel (\"Day of the week\", fontsize=18)\n",
    "\n",
    "pl.legend(['post-90s bikers','pre-90s bikers'],fontsize=12)\n"
   ]
  },
  {
   "cell_type": "markdown",
   "metadata": {},
   "source": [
    "## Figure 2: Distribution of Citibike bikers by in July 2016, normalized"
   ]
  },
  {
   "cell_type": "markdown",
   "metadata": {},
   "source": [
    "## The fraction of pre-90s that bikes during the weekdays and the fraction that bikes during weekends, and the same for post-90s"
   ]
  },
  {
   "cell_type": "code",
   "execution_count": 58,
   "metadata": {
    "collapsed": true
   },
   "outputs": [],
   "source": [
    "week_pr = sum(counts_pr[:-2]) * 1.0 / norm_pr  #fraction of pre-90s riding on week days\n",
    "weekend_pr = sum(counts_pr[-2:]) * 1.0 / norm_pr  #fraction of pre-90s riding on weekends\n",
    "#error bar\n",
    "eweek_pr = np.sqrt(sum(error_pr[:-2]**2)) / norm_pr  #error on fraction number of pre-90s riding on week days\n",
    "eweekend_pr = np.sqrt(sum(error_pr[-2:]**2)) / norm_pr #error on fraction number of pre-90s riding on weekends\n",
    "\n",
    "#same nomenclature as above\n",
    "week_po = sum(counts_po[:-2]) * 1.0 / norm_po\n",
    "weekend_po = sum(counts_po[-2:]) * 1.0 / norm_po\n",
    "#error bar\n",
    "eweek_po = np.sqrt(sum(error_po[:-2]**2)) / norm_po\n",
    "eweekend_po = np.sqrt(sum(error_po[-2:]**2)) / norm_po"
   ]
  },
  {
   "cell_type": "code",
   "execution_count": 59,
   "metadata": {},
   "outputs": [
    {
     "name": "stdout",
     "output_type": "stream",
     "text": [
      "Pre-90s fraction: week:0.778, weekend:0.222, weekend error:0.001, weekend error:0.0005\n",
      "Post-90s fraction: week:0.745, weekend:0.255, weekend error:0.002, weekend error:0.0012\n"
     ]
    }
   ],
   "source": [
    "print(\"Pre-90s fraction: week:{0:.3f}, weekend:{1:.3f}, weekend error:{2:.3f}, weekend error:{3:.4f}\"\\\n",
    "      .format(week_pr, weekend_pr, eweek_pr, eweekend_pr))\n",
    "print(\"Post-90s fraction: week:{0:.3f}, weekend:{1:.3f}, weekend error:{2:.3f}, weekend error:{3:.4f}\"\\\n",
    "      .format(week_po, weekend_po, eweek_po, eweekend_po))"
   ]
  },
  {
   "cell_type": "code",
   "execution_count": 60,
   "metadata": {},
   "outputs": [
    {
     "data": {
      "text/plain": [
       "<matplotlib.legend.Legend at 0x114ec7e90>"
      ]
     },
     "execution_count": 60,
     "metadata": {},
     "output_type": "execute_result"
    },
    {
     "data": {
      "image/png": "[encoded data removed]",
      "text/plain": [
       "<matplotlib.figure.Figure at 0x114667810>"
      ]
     },
     "metadata": {},
     "output_type": "display_data"
    }
   ],
   "source": [
    "fig = pl.figure(figsize = (15, 6))\n",
    "ax1 = fig.add_subplot(121)\n",
    "ax2 = fig.add_subplot(122)\n",
    "\n",
    "ax1.set_xticks([])\n",
    "ax2.set_xticks([])\n",
    "\n",
    "ax1.errorbar([0.4], [week_po], yerr=[eweek_po], fmt='o', label='post-90s')\n",
    "ax1.errorbar([0.2], [week_pr], yerr=[eweek_pr], fmt='o', label='pre-90s')\n",
    "ax1.set_xlim(0, 0.5)\n",
    "ax2.errorbar([0.4], [weekend_po], yerr=[eweekend_po], fmt='o', label='post-90s')\n",
    "ax2.errorbar([0.2], [weekend_pr], yerr=[eweekend_pr], fmt='o', label='pre-90s')\n",
    "ax1.set_xlim(0, 0.5)\n",
    "ax1.set_title(\"week days\")\n",
    "ax2.set_title(\"weekends\")\n",
    "ax2.set_ylabel(\"Fraction of normalized rides by generation\", fontsize = 13)\n",
    "ax1.set_ylabel(\"Fraction of normalized rides by generation\", fontsize = 13)\n",
    "\n",
    "pl.xlim(-0.5, 1.5)\n",
    "pl.legend(fontsize = 20)"
   ]
  },
  {
   "cell_type": "markdown",
   "metadata": {},
   "source": [
    "## Figure 3: Fraction of Citibike bikers(pre-90s, post-90s) in July 2016 for week days (left) and weekends (right)\n"
   ]
  },
  {
   "cell_type": "code",
   "execution_count": 61,
   "metadata": {},
   "outputs": [
    {
     "name": "stdout",
     "output_type": "stream",
     "text": [
      "difference between pre-90s and pre-90s on weekend:  0.0333808077834\n",
      "We must check the significance before we reject the Null Hypothesis\n"
     ]
    }
   ],
   "source": [
    "di = weekend_po - weekend_pr\n",
    "print (\"difference between pre-90s and pre-90s on weekend: \", di)\n",
    "    print(\"In accordance with Null Hypothesis\")\n",
    "else:\n",
    "    print (\"We must check the significance before we reject the Null Hypothesis\")"
   ]
  },
  {
   "cell_type": "markdown",
   "metadata": {},
   "source": [
    "## Is this difference statistically significant?\n",
    "### The statistics is:\n",
    "$z = \\frac{(p_0 - p_1)}{SE} $\n",
    "\n",
    "$p =\\frac{p_0  n_0 + p_1  n_1}{n_0+n_1}$\n",
    "\n",
    "$SE = \\sqrt{ p  ( 1 - p )  (\\frac{1}{n_0} + \\frac{1}{n_1}) }$\n",
    "### and in this notation\n",
    "$p_0 = \\frac{po_{\\mathrm{weekend}}}{po_{\\mathrm{total}}}$\n",
    "\n",
    "and\n",
    "\n",
    "$p_1 = \\frac{pr_{\\mathrm{weekend}}}{pr_{\\mathrm{total}}}$"
   ]
  },
  {
   "cell_type": "code",
   "execution_count": 62,
   "metadata": {},
   "outputs": [
    {
     "name": "stdout",
     "output_type": "stream",
     "text": [
      "The z statistics is 30.9816135711\n"
     ]
    }
   ],
   "source": [
    "# defining the functions that calculate the statistics\n",
    "# the lambda style definition is NOT APPROVED BY PEP8 and you should avoind it\n",
    "# but I am putting it here since you may encounter it in your coding life.\n",
    "# confront the equation in the markdown cell above with these function to understand as they work\n",
    "def getp(p0, p1, n0, n1):\n",
    "    p = (p0 * n0 + p1 * n1) / (n0 + n1)\n",
    "    return p\n",
    "\n",
    "def getse(p, n0, n1):\n",
    "    se = np.sqrt(p * (1 - p) * (1.0 / n0 + 1.0 / n1)) #standard error\n",
    "    return se\n",
    "\n",
    "def getzscore(p0, p1, s):\n",
    "    zscore = (p0 - p1) / s\n",
    "    return zscore\n",
    "\n",
    "# calculations\n",
    "p = getp(weekend_po, weekend_pr, norm_po, norm_pr)\n",
    "SE = getse(p, norm_po, norm_pr)\n",
    "z = getzscore(weekend_po, weekend_pr, SE)\n",
    "\n",
    "print (\"The z statistics is %.10f\"%z)"
   ]
  },
  {
   "cell_type": "markdown",
   "metadata": {},
   "source": [
    "## The largest number reported in z stats tables is (thpically) 3, which gives a p value\n",
    "p < 0.0002, \n",
    "## which is smaller then my chosen $\\alpha=0.05$ - so yes, it is statistically significant (by a lot!)\n",
    "## We reject the Null Hypothesis."
   ]
  },
  {
   "cell_type": "markdown",
   "metadata": {},
   "source": [
    "## Check the robustness of the answer with another citibike dataset \n",
    "### we select the December 2016 data, since in winter, because of the cold weather, people may less likely to choose biking for commuting."
   ]
  },
  {
   "cell_type": "code",
   "execution_count": 21,
   "metadata": {
    "scrolled": false
   },
   "outputs": [
    {
     "name": "stdout",
     "output_type": "stream",
     "text": [
      "Downloading 201612\n",
      "file in place, you can continue\n"
     ]
    }
   ],
   "source": [
    "## download data\n",
    "datestring = '201612'\n",
    "getCitiBikeCSV(datestring)"
   ]
  },
  {
   "cell_type": "code",
   "execution_count": 22,
   "metadata": {},
   "outputs": [
    {
     "data": {
      "text/html": [
       "<div>\n",
       "<style>\n",
       "    .dataframe thead tr:only-child th {\n",
       "        text-align: right;\n",
       "    }\n",
       "\n",
       "    .dataframe thead th {\n",
       "        text-align: left;\n",
       "    }\n",
       "\n",
       "    .dataframe tbody tr th {\n",
       "        vertical-align: top;\n",
       "    }\n",
       "</style>\n",
       "<table border=\"1\" class=\"dataframe\">\n",
       "  <thead>\n",
       "    <tr style=\"text-align: right;\">\n",
       "      <th></th>\n",
       "      <th>Trip Duration</th>\n",
       "      <th>Start Time</th>\n",
       "      <th>Stop Time</th>\n",
       "      <th>Start Station ID</th>\n",
       "      <th>Start Station Name</th>\n",
       "      <th>Start Station Latitude</th>\n",
       "      <th>Start Station Longitude</th>\n",
       "      <th>End Station ID</th>\n",
       "      <th>End Station Name</th>\n",
       "      <th>End Station Latitude</th>\n",
       "      <th>End Station Longitude</th>\n",
       "      <th>Bike ID</th>\n",
       "      <th>User Type</th>\n",
       "      <th>Birth Year</th>\n",
       "      <th>Gender</th>\n",
       "      <th>date</th>\n",
       "    </tr>\n",
       "  </thead>\n",
       "  <tbody>\n",
       "    <tr>\n",
       "      <th>0</th>\n",
       "      <td>528</td>\n",
       "      <td>2016-12-01 00:00:04</td>\n",
       "      <td>2016-12-01 00:08:52</td>\n",
       "      <td>499</td>\n",
       "      <td>Broadway &amp; W 60 St</td>\n",
       "      <td>40.769155</td>\n",
       "      <td>-73.981918</td>\n",
       "      <td>228</td>\n",
       "      <td>E 48 St &amp; 3 Ave</td>\n",
       "      <td>40.754601</td>\n",
       "      <td>-73.971879</td>\n",
       "      <td>26931</td>\n",
       "      <td>Subscriber</td>\n",
       "      <td>1964.0</td>\n",
       "      <td>1</td>\n",
       "      <td>2016-12-01 00:00:04</td>\n",
       "    </tr>\n",
       "    <tr>\n",
       "      <th>1</th>\n",
       "      <td>218</td>\n",
       "      <td>2016-12-01 00:00:28</td>\n",
       "      <td>2016-12-01 00:04:06</td>\n",
       "      <td>3418</td>\n",
       "      <td>Plaza St West &amp; Flatbush Ave</td>\n",
       "      <td>40.675021</td>\n",
       "      <td>-73.971115</td>\n",
       "      <td>3358</td>\n",
       "      <td>Garfield Pl &amp; 8 Ave</td>\n",
       "      <td>40.671198</td>\n",
       "      <td>-73.974841</td>\n",
       "      <td>27122</td>\n",
       "      <td>Subscriber</td>\n",
       "      <td>1955.0</td>\n",
       "      <td>1</td>\n",
       "      <td>2016-12-01 00:00:28</td>\n",
       "    </tr>\n",
       "    <tr>\n",
       "      <th>2</th>\n",
       "      <td>399</td>\n",
       "      <td>2016-12-01 00:00:39</td>\n",
       "      <td>2016-12-01 00:07:19</td>\n",
       "      <td>297</td>\n",
       "      <td>E 15 St &amp; 3 Ave</td>\n",
       "      <td>40.734232</td>\n",
       "      <td>-73.986923</td>\n",
       "      <td>345</td>\n",
       "      <td>W 13 St &amp; 6 Ave</td>\n",
       "      <td>40.736494</td>\n",
       "      <td>-73.997044</td>\n",
       "      <td>19352</td>\n",
       "      <td>Subscriber</td>\n",
       "      <td>1985.0</td>\n",
       "      <td>1</td>\n",
       "      <td>2016-12-01 00:00:39</td>\n",
       "    </tr>\n",
       "    <tr>\n",
       "      <th>3</th>\n",
       "      <td>254</td>\n",
       "      <td>2016-12-01 00:00:44</td>\n",
       "      <td>2016-12-01 00:04:59</td>\n",
       "      <td>405</td>\n",
       "      <td>Washington St &amp; Gansevoort St</td>\n",
       "      <td>40.739323</td>\n",
       "      <td>-74.008119</td>\n",
       "      <td>358</td>\n",
       "      <td>Christopher St &amp; Greenwich St</td>\n",
       "      <td>40.732916</td>\n",
       "      <td>-74.007114</td>\n",
       "      <td>20015</td>\n",
       "      <td>Subscriber</td>\n",
       "      <td>1982.0</td>\n",
       "      <td>1</td>\n",
       "      <td>2016-12-01 00:00:44</td>\n",
       "    </tr>\n",
       "    <tr>\n",
       "      <th>4</th>\n",
       "      <td>1805</td>\n",
       "      <td>2016-12-01 00:00:54</td>\n",
       "      <td>2016-12-01 00:31:00</td>\n",
       "      <td>279</td>\n",
       "      <td>Peck Slip &amp; Front St</td>\n",
       "      <td>40.707873</td>\n",
       "      <td>-74.001670</td>\n",
       "      <td>279</td>\n",
       "      <td>Peck Slip &amp; Front St</td>\n",
       "      <td>40.707873</td>\n",
       "      <td>-74.001670</td>\n",
       "      <td>23148</td>\n",
       "      <td>Subscriber</td>\n",
       "      <td>1989.0</td>\n",
       "      <td>1</td>\n",
       "      <td>2016-12-01 00:00:54</td>\n",
       "    </tr>\n",
       "  </tbody>\n",
       "</table>\n",
       "</div>"
      ],
      "text/plain": [
       "   Trip Duration           Start Time            Stop Time  Start Station ID  \\\n",
       "0            528  2016-12-01 00:00:04  2016-12-01 00:08:52               499   \n",
       "1            218  2016-12-01 00:00:28  2016-12-01 00:04:06              3418   \n",
       "2            399  2016-12-01 00:00:39  2016-12-01 00:07:19               297   \n",
       "3            254  2016-12-01 00:00:44  2016-12-01 00:04:59               405   \n",
       "4           1805  2016-12-01 00:00:54  2016-12-01 00:31:00               279   \n",
       "\n",
       "              Start Station Name  Start Station Latitude  \\\n",
       "0             Broadway & W 60 St               40.769155   \n",
       "1   Plaza St West & Flatbush Ave               40.675021   \n",
       "2                E 15 St & 3 Ave               40.734232   \n",
       "3  Washington St & Gansevoort St               40.739323   \n",
       "4           Peck Slip & Front St               40.707873   \n",
       "\n",
       "   Start Station Longitude  End Station ID               End Station Name  \\\n",
       "0               -73.981918             228                E 48 St & 3 Ave   \n",
       "1               -73.971115            3358            Garfield Pl & 8 Ave   \n",
       "2               -73.986923             345                W 13 St & 6 Ave   \n",
       "3               -74.008119             358  Christopher St & Greenwich St   \n",
       "4               -74.001670             279           Peck Slip & Front St   \n",
       "\n",
       "   End Station Latitude  End Station Longitude  Bike ID   User Type  \\\n",
       "0             40.754601             -73.971879    26931  Subscriber   \n",
       "1             40.671198             -73.974841    27122  Subscriber   \n",
       "2             40.736494             -73.997044    19352  Subscriber   \n",
       "3             40.732916             -74.007114    20015  Subscriber   \n",
       "4             40.707873             -74.001670    23148  Subscriber   \n",
       "\n",
       "   Birth Year  Gender                date  \n",
       "0      1964.0       1 2016-12-01 00:00:04  \n",
       "1      1955.0       1 2016-12-01 00:00:28  \n",
       "2      1985.0       1 2016-12-01 00:00:39  \n",
       "3      1982.0       1 2016-12-01 00:00:44  \n",
       "4      1989.0       1 2016-12-01 00:00:54  "
      ]
     },
     "execution_count": 22,
     "metadata": {},
     "output_type": "execute_result"
    }
   ],
   "source": [
    "df_12 = pd.read_csv(os.getenv(\"PUIDATA\") + \"/\" + datestring + '-citibike-tripdata.csv')\n",
    "df_12['date'] = pd.to_datetime(df_12['Start Time'])\n",
    "df_12.head()"
   ]
  },
  {
   "cell_type": "code",
   "execution_count": 23,
   "metadata": {},
   "outputs": [
    {
     "data": {
      "text/html": [
       "<div>\n",
       "<style>\n",
       "    .dataframe thead tr:only-child th {\n",
       "        text-align: right;\n",
       "    }\n",
       "\n",
       "    .dataframe thead th {\n",
       "        text-align: left;\n",
       "    }\n",
       "\n",
       "    .dataframe tbody tr th {\n",
       "        vertical-align: top;\n",
       "    }\n",
       "</style>\n",
       "<table border=\"1\" class=\"dataframe\">\n",
       "  <thead>\n",
       "    <tr style=\"text-align: right;\">\n",
       "      <th></th>\n",
       "      <th>date</th>\n",
       "      <th>Birth Year</th>\n",
       "    </tr>\n",
       "  </thead>\n",
       "  <tbody>\n",
       "    <tr>\n",
       "      <th>0</th>\n",
       "      <td>2016-12-01 00:00:04</td>\n",
       "      <td>1964.0</td>\n",
       "    </tr>\n",
       "    <tr>\n",
       "      <th>1</th>\n",
       "      <td>2016-12-01 00:00:28</td>\n",
       "      <td>1955.0</td>\n",
       "    </tr>\n",
       "    <tr>\n",
       "      <th>2</th>\n",
       "      <td>2016-12-01 00:00:39</td>\n",
       "      <td>1985.0</td>\n",
       "    </tr>\n",
       "    <tr>\n",
       "      <th>3</th>\n",
       "      <td>2016-12-01 00:00:44</td>\n",
       "      <td>1982.0</td>\n",
       "    </tr>\n",
       "    <tr>\n",
       "      <th>4</th>\n",
       "      <td>2016-12-01 00:00:54</td>\n",
       "      <td>1989.0</td>\n",
       "    </tr>\n",
       "  </tbody>\n",
       "</table>\n",
       "</div>"
      ],
      "text/plain": [
       "                 date  Birth Year\n",
       "0 2016-12-01 00:00:04      1964.0\n",
       "1 2016-12-01 00:00:28      1955.0\n",
       "2 2016-12-01 00:00:39      1985.0\n",
       "3 2016-12-01 00:00:44      1982.0\n",
       "4 2016-12-01 00:00:54      1989.0"
      ]
     },
     "execution_count": 23,
     "metadata": {},
     "output_type": "execute_result"
    }
   ],
   "source": [
    "data_12 = df_12[['date', 'Birth Year']]\n",
    "data_12.head()"
   ]
  },
  {
   "cell_type": "code",
   "execution_count": 44,
   "metadata": {
    "collapsed": true
   },
   "outputs": [],
   "source": [
    "counts_po_12 = data_12.date[data_12['Birth Year'] >= 1990].groupby([data_12.date.dt.weekday]).count()\n",
    "counts_pr_12 = data_12.date[data_12['Birth Year'] < 1990].groupby([data_12.date.dt.weekday]).count()"
   ]
  },
  {
   "cell_type": "code",
   "execution_count": 45,
   "metadata": {},
   "outputs": [
    {
     "data": {
      "text/plain": [
       "<matplotlib.legend.Legend at 0x10e634790>"
      ]
     },
     "execution_count": 45,
     "metadata": {},
     "output_type": "execute_result"
    },
    {
     "data": {
      "image/png": "[encoded data removed]",
      "text/plain": [
       "<matplotlib.figure.Figure at 0x110cd4f90>"
      ]
     },
     "metadata": {},
     "output_type": "display_data"
    }
   ],
   "source": [
    "fig=pl.figure(figsize(10,9))\n",
    "\n",
    "norm_po=1\n",
    "error_po_12 = np.sqrt(counts_po_12)\n",
    "ax = ((counts_po_12) / norm_po).plot(kind=\"bar\",color='IndianRed',  yerr=[((error_po_12) / norm_po, (error_po_12) / norm_po)], label='post-90s bikers')\n",
    "\n",
    "norm_pr = 1\n",
    "error_pr_12=np.sqrt(counts_pr_12)\n",
    "((counts_pr_12) / norm_pr).plot(kind=\"bar\", alpha=0.5, yerr=[((error_pr_12) / norm_pr, (error_pr_12) / norm_pr)], \n",
    "                           color='SteelBlue', label='pre-90s bikers')\n",
    "ax.xaxis.set_ticklabels(['Mon','Tue','Wed','Thu','Fri','Sat','Sun'], fontsize=20)\n",
    "ax.set_ylabel (\"Number of rides\", fontsize = 18)\n",
    "ax.set_xlabel (\"Day of the week\", fontsize = 18)\n",
    "pl.legend(['post-90s bikers','pre-90s bikers'],fontsize=12)"
   ]
  },
  {
   "cell_type": "code",
   "execution_count": 46,
   "metadata": {},
   "outputs": [
    {
     "data": {
      "text/plain": [
       "<matplotlib.text.Text at 0x1105ce810>"
      ]
     },
     "execution_count": 46,
     "metadata": {},
     "output_type": "execute_result"
    },
    {
     "data": {
      "image/png": "[encoded data removed]",
      "text/plain": [
       "<matplotlib.figure.Figure at 0x110d14ed0>"
      ]
     },
     "metadata": {},
     "output_type": "display_data"
    }
   ],
   "source": [
    "fig=pl.figure(figsize(15,10))\n",
    "\n",
    "norm_po_12 = counts_po_12.sum()\n",
    "error_po_12 = np.sqrt(counts_po_12)\n",
    "\n",
    "((counts_po_12) / norm_po_12).plot(kind=\"bar\",color='IndianRed',  yerr=[\n",
    "            ((error_po_12) / norm_po_12, (error_po_12) / norm_po_12)], label= 'post-90s bikers, Dec')\n",
    "\n",
    "norm_pr_12 = counts_pr_12.sum()\n",
    "error_pr_12 = np.sqrt(counts_pr_12)\n",
    "\n",
    "ax = ((counts_pr_12) / norm_pr_12).plot(kind=\"bar\",color='teal',  yerr=[\n",
    "            ((error_pr_12) / norm_pr_12, (error_pr_12) / norm_pr_12)], label= 'pre-90s bikers, Dec', alpha = 0.5)\n",
    "\n",
    "ax.xaxis.set_ticklabels(['Mon','Tue','Wed','Thu','Fri','Sat','Sun'], fontsize=20)\n",
    "ax.set_ylabel (\"Fraction of rides\", fontsize = 17)\n",
    "ax.set_xlabel (\"Day of the week\", fontsize = 17)\n",
    "\n",
    "pl.legend(fontsize=20)\n",
    "pl.title('Distribution of Citibike bikers by generation in December 2016, normalized(error bar)', weight = 'bold')"
   ]
  },
  {
   "cell_type": "markdown",
   "metadata": {},
   "source": [
    "## Figure 4: Distribution of Citibike bikers by generation in December 2016, normalized"
   ]
  },
  {
   "cell_type": "code",
   "execution_count": 47,
   "metadata": {
    "scrolled": false
   },
   "outputs": [
    {
     "name": "stdout",
     "output_type": "stream",
     "text": [
      "Pre-90s: week:0.823, weekend:0.177, weekend error:0.001, weekend error:0.001\n",
      "Post-90s: week:0.788, weekend:0.212, weekend error:0.003, weekend error:0.001\n"
     ]
    },
    {
     "data": {
      "text/plain": [
       "<matplotlib.legend.Legend at 0x1125f8890>"
      ]
     },
     "execution_count": 47,
     "metadata": {},
     "output_type": "execute_result"
    },
    {
     "data": {
      "image/png": "[encoded data removed]",
      "text/plain": [
       "<matplotlib.figure.Figure at 0x1105bc190>"
      ]
     },
     "metadata": {},
     "output_type": "display_data"
    }
   ],
   "source": [
    "fig=pl.figure(figsize(15,6))\n",
    "ax1=fig.add_subplot(121)\n",
    "ax2=fig.add_subplot(122)\n",
    "ax1.set_xticks([])\n",
    "ax2.set_xticks([])\n",
    "\n",
    "week_po12 = sum(counts_po_12[:-2]) * 1.0 / norm_po_12\n",
    "weekend_po12 = sum(counts_po_12[-2:])*1.0 / norm_po_12\n",
    "eweek_po12 = np.sqrt(sum(error_po_12[:-2]**2)) / norm_po_12\n",
    "eweekend_po12 = np.sqrt(sum(error_po_12[-2:]**2)) / norm_po_12\n",
    "\n",
    "week_pr12 = sum(counts_pr_12[:-2]) * 1.0 / norm_pr_12\n",
    "weekend_pr12 = sum(counts_pr_12[-2:]) * 1.0 / norm_pr_12\n",
    "eweek_pr12 = np.sqrt(sum(error_pr_12[:-2]**2)) / norm_pr_12\n",
    "eweekend_pr12 = np.sqrt(sum(error_pr_12[-2:]**2)) / norm_pr_12\n",
    "\n",
    "print(\"Pre-90s: week:{0:.3f}, weekend:{1:.3f}, weekend error:{2:.3f}, weekend error:{3:.3f}\"\\\n",
    "      .format(week_pr12, weekend_pr12, eweek_pr12, eweekend_pr12))\n",
    "print(\"Post-90s: week:{0:.3f}, weekend:{1:.3f}, weekend error:{2:.3f}, weekend error:{3:.3f}\"\\\n",
    "      .format(week_po12, weekend_po12, eweek_po12, eweekend_po12))\n",
    "\n",
    "ax1.errorbar([0.2],[week_po12], yerr=[eweek_po12], fmt='o', label='Post-90s')\n",
    "ax1.errorbar([0.4],[week_pr12], yerr=[eweek_pr12], fmt='o', label='Pre-90s')\n",
    "ax1.set_xlim(0,0.5)\n",
    "ax2.errorbar([0.2],[weekend_po12], yerr=[eweekend_po12], fmt='o', label='Post-90s')\n",
    "ax2.errorbar([0.4],[weekend_pr12], yerr=[eweekend_pr12], fmt='o', label='Pre-90s')\n",
    "ax1.set_xlim(0,0.5)\n",
    "ax1.set_title(\"week days\")\n",
    "ax2.set_title(\"weekends\")\n",
    "ax2.set_ylabel(\"Fraction of normalized rides by generation\", fontsize = 13)\n",
    "ax1.set_ylabel(\"Fraction of normalized rides by generation\", fontsize = 13)\n",
    "\n",
    "pl.xlim(-0.5,1.5)\n",
    "pl.legend(fontsize=20)"
   ]
  },
  {
   "cell_type": "markdown",
   "metadata": {},
   "source": [
    "## Figure 5 Fraction of Citibike bikers by generation in December 2016 for week days (left) and weekends (right)"
   ]
  },
  {
   "cell_type": "code",
   "execution_count": 48,
   "metadata": {},
   "outputs": [
    {
     "name": "stdout",
     "output_type": "stream",
     "text": [
      "The z statistics is 28.2463866580\n"
     ]
    }
   ],
   "source": [
    "sp_stdev_12 = getse(getp(weekend_po12, weekend_pr12, norm_po_12, norm_pr_12), norm_po_12, norm_pr_12)\n",
    "# print (sp_stdev_mw)\n",
    "z12 = getzscore(weekend_po12, weekend_pr12, sp_stdev_12)\n",
    "print (\"The z statistics is %.10f\"%z12)"
   ]
  },
  {
   "cell_type": "markdown",
   "metadata": {},
   "source": [
    "### The z statstic is larger in the Summer and smaller in winter! Larger z means farther into the significance region"
   ]
  },
  {
   "cell_type": "markdown",
   "metadata": {},
   "source": [
    "## The largest number reported in z stats tables is (thpically) 3, which gives a p value\n",
    "p < 0.0002, \n",
    "## which is smaller then my chosen $\\alpha=0.05$ - so yes, it is statistically significant (by a lot!)\n",
    "## We reject the Null Hypothesis\n",
    "## We proved the robustness of the answer given by analysis of July 2016 data."
   ]
  },
  {
   "cell_type": "markdown",
   "metadata": {},
   "source": [
    "## Lastly, let's check the effect size using formula：\n",
    "$r = \\frac{z}{\\sqrt{(n_0+n_1)}}$\n",
    "and\n",
    "\n",
    "$h =  2 (\\arcsin \\sqrt{p_0} -  \\arcsin \\sqrt{p_1} )$\n",
    "\n"
   ]
  },
  {
   "cell_type": "code",
   "execution_count": 49,
   "metadata": {
    "collapsed": true
   },
   "outputs": [],
   "source": [
    "def r(z,n0,n1):\n",
    "    r = z / np.sqrt(n0+n1)\n",
    "    return r\n",
    "def h(p0,p1):\n",
    "    h = 2*(np.arcsin(np.sqrt(p0)) - np.arcsin(np.sqrt(p1)))\n",
    "    return h"
   ]
  },
  {
   "cell_type": "code",
   "execution_count": 63,
   "metadata": {
    "scrolled": true
   },
   "outputs": [
    {
     "name": "stdout",
     "output_type": "stream",
     "text": [
      "0.0285630972443 0.0321378655039\n"
     ]
    }
   ],
   "source": [
    "r06 = r(z, norm_po, norm_pr)\n",
    "r12 = r(z12, norm_po_12, norm_pr_12)\n",
    "print (r06, r12)"
   ]
  },
  {
   "cell_type": "code",
   "execution_count": 64,
   "metadata": {},
   "outputs": [
    {
     "name": "stdout",
     "output_type": "stream",
     "text": [
      "0.0783394572513 0.0883683040165\n"
     ]
    }
   ],
   "source": [
    "h06 = h(weekend_po, weekend_pr)\n",
    "h12 = h(weekend_po12, weekend_pr12)\n",
    "print (h06, h12)"
   ]
  },
  {
   "cell_type": "markdown",
   "metadata": {},
   "source": [
    "## In all these cases we have SMALL EFFECT SIZE, and in both cases slightly smaller for the summer data."
   ]
  },
  {
   "cell_type": "code",
   "execution_count": null,
   "metadata": {
    "collapsed": true
   },
   "outputs": [],
   "source": []
  }
 ],
 "metadata": {
  "anaconda-cloud": {},
  "kernelspec": {
   "display_name": "Python 2",
   "language": "python",
   "name": "python2"
  }
 },
 "nbformat": 4,
 "nbformat_minor": 1
}
